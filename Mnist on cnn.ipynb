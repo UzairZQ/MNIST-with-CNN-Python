{
 "cells": [
  {
   "cell_type": "markdown",
   "id": "a6e6381f",
   "metadata": {},
   "source": [
    " UZAIR ZIA QURESHI\n",
    "197022\n",
    "ASSIGNMENT: MNIST DATASET IN CNN\n",
    "10/6/22\n",
    "SUBMITTED TO: SIR EHTISHAM"
   ]
  },
  {
   "cell_type": "code",
   "execution_count": null,
   "id": "992bfade",
   "metadata": {},
   "outputs": [],
   "source": [
    "import tensorflow as tf "
   ]
  },
  {
   "cell_type": "markdown",
   "id": "e67a93c7",
   "metadata": {},
   "source": [
    " Loading MNIST Dataset \n",
    "Containing Training Samples = 60,000 , Testing Samples = 10,000\n",
    "Tensorflow already contain mnist dataset which can be imported by keras"
   ]
  },
  {
   "cell_type": "code",
   "execution_count": 3,
   "id": "e0634711",
   "metadata": {},
   "outputs": [],
   "source": [
    "mnist = tf.keras.datasets.mnist #keras is api for loading datasets from tensorflow"
   ]
  },
  {
   "cell_type": "code",
   "execution_count": 4,
   "id": "2ed1cef6",
   "metadata": {},
   "outputs": [],
   "source": [
    "#After loading mnist dataset, divide into test and train datasets"
   ]
  },
  {
   "cell_type": "code",
   "execution_count": 39,
   "id": "15774042",
   "metadata": {},
   "outputs": [],
   "source": [
    "(x_train, y_train),(x_test, y_test) = mnist.load_data()"
   ]
  },
  {
   "cell_type": "code",
   "execution_count": 6,
   "id": "884a0373",
   "metadata": {},
   "outputs": [
    {
     "data": {
      "text/plain": [
       "(60000, 28, 28)"
      ]
     },
     "execution_count": 6,
     "metadata": {},
     "output_type": "execute_result"
    }
   ],
   "source": [
    "x_train.shape"
   ]
  },
  {
   "cell_type": "code",
   "execution_count": 41,
   "id": "a01d8e3a",
   "metadata": {},
   "outputs": [
    {
     "data": {
      "text/plain": [
       "(10000, 28, 28)"
      ]
     },
     "execution_count": 41,
     "metadata": {},
     "output_type": "execute_result"
    }
   ],
   "source": [
    "x_test.shape"
   ]
  },
  {
   "cell_type": "code",
   "execution_count": 7,
   "id": "4f8c4c36",
   "metadata": {},
   "outputs": [],
   "source": [
    "import matplotlib.pyplot as plt"
   ]
  },
  {
   "cell_type": "code",
   "execution_count": 10,
   "id": "db11c95b",
   "metadata": {},
   "outputs": [
    {
     "data": {
      "image/png": "[encoded data removed]",
      "text/plain": [
       "<Figure size 432x288 with 1 Axes>"
      ]
     },
     "metadata": {
      "needs_background": "light"
     },
     "output_type": "display_data"
    },
    {
     "data": {
      "text/plain": [
       "<matplotlib.image.AxesImage at 0x237ae082af0>"
      ]
     },
     "execution_count": 10,
     "metadata": {},
     "output_type": "execute_result"
    },
    {
     "data": {
      "image/png": "[encoded data removed]",
      "text/plain": [
       "<Figure size 432x288 with 1 Axes>"
      ]
     },
     "metadata": {
      "needs_background": "light"
     },
     "output_type": "display_data"
    }
   ],
   "source": [
    "#just checking the graph how data looks like\n",
    "\n",
    "plt.imshow(x_train[0])\n",
    "plt.show() #in order to execute the graph\n",
    "plt.imshow(x_train[0], cmap = plt.cm.binary) #we dont know whether it is color image or binary image so convert it into binary"
   ]
  },
  {
   "cell_type": "code",
   "execution_count": 11,
   "id": "13e44f54",
   "metadata": {},
   "outputs": [
    {
     "name": "stdout",
     "output_type": "stream",
     "text": [
      "[[  0   0   0   0   0   0   0   0   0   0   0   0   0   0   0   0   0   0\n",
      "    0   0   0   0   0   0   0   0   0   0]\n",
      " [  0   0   0   0   0   0   0   0   0   0   0   0   0   0   0   0   0   0\n",
      "    0   0   0   0   0   0   0   0   0   0]\n",
      " [  0   0   0   0   0   0   0   0   0   0   0   0   0   0   0   0   0   0\n",
      "    0   0   0   0   0   0   0   0   0   0]\n",
      " [  0   0   0   0   0   0   0   0   0   0   0   0   0   0   0   0   0   0\n",
      "    0   0   0   0   0   0   0   0   0   0]\n",
      " [  0   0   0   0   0   0   0   0   0   0   0   0   0   0   0   0   0   0\n",
      "    0   0   0   0   0   0   0   0   0   0]\n",
      " [  0   0   0   0   0   0   0   0   0   0   0   0   3  18  18  18 126 136\n",
      "  175  26 166 255 247 127   0   0   0   0]\n",
      " [  0   0   0   0   0   0   0   0  30  36  94 154 170 253 253 253 253 253\n",
      "  225 172 253 242 195  64   0   0   0   0]\n",
      " [  0   0   0   0   0   0   0  49 238 253 253 253 253 253 253 253 253 251\n",
      "   93  82  82  56  39   0   0   0   0   0]\n",
      " [  0   0   0   0   0   0   0  18 219 253 253 253 253 253 198 182 247 241\n",
      "    0   0   0   0   0   0   0   0   0   0]\n",
      " [  0   0   0   0   0   0   0   0  80 156 107 253 253 205  11   0  43 154\n",
      "    0   0   0   0   0   0   0   0   0   0]\n",
      " [  0   0   0   0   0   0   0   0   0  14   1 154 253  90   0   0   0   0\n",
      "    0   0   0   0   0   0   0   0   0   0]\n",
      " [  0   0   0   0   0   0   0   0   0   0   0 139 253 190   2   0   0   0\n",
      "    0   0   0   0   0   0   0   0   0   0]\n",
      " [  0   0   0   0   0   0   0   0   0   0   0  11 190 253  70   0   0   0\n",
      "    0   0   0   0   0   0   0   0   0   0]\n",
      " [  0   0   0   0   0   0   0   0   0   0   0   0  35 241 225 160 108   1\n",
      "    0   0   0   0   0   0   0   0   0   0]\n",
      " [  0   0   0   0   0   0   0   0   0   0   0   0   0  81 240 253 253 119\n",
      "   25   0   0   0   0   0   0   0   0   0]\n",
      " [  0   0   0   0   0   0   0   0   0   0   0   0   0   0  45 186 253 253\n",
      "  150  27   0   0   0   0   0   0   0   0]\n",
      " [  0   0   0   0   0   0   0   0   0   0   0   0   0   0   0  16  93 252\n",
      "  253 187   0   0   0   0   0   0   0   0]\n",
      " [  0   0   0   0   0   0   0   0   0   0   0   0   0   0   0   0   0 249\n",
      "  253 249  64   0   0   0   0   0   0   0]\n",
      " [  0   0   0   0   0   0   0   0   0   0   0   0   0   0  46 130 183 253\n",
      "  253 207   2   0   0   0   0   0   0   0]\n",
      " [  0   0   0   0   0   0   0   0   0   0   0   0  39 148 229 253 253 253\n",
      "  250 182   0   0   0   0   0   0   0   0]\n",
      " [  0   0   0   0   0   0   0   0   0   0  24 114 221 253 253 253 253 201\n",
      "   78   0   0   0   0   0   0   0   0   0]\n",
      " [  0   0   0   0   0   0   0   0  23  66 213 253 253 253 253 198  81   2\n",
      "    0   0   0   0   0   0   0   0   0   0]\n",
      " [  0   0   0   0   0   0  18 171 219 253 253 253 253 195  80   9   0   0\n",
      "    0   0   0   0   0   0   0   0   0   0]\n",
      " [  0   0   0   0  55 172 226 253 253 253 253 244 133  11   0   0   0   0\n",
      "    0   0   0   0   0   0   0   0   0   0]\n",
      " [  0   0   0   0 136 253 253 253 212 135 132  16   0   0   0   0   0   0\n",
      "    0   0   0   0   0   0   0   0   0   0]\n",
      " [  0   0   0   0   0   0   0   0   0   0   0   0   0   0   0   0   0   0\n",
      "    0   0   0   0   0   0   0   0   0   0]\n",
      " [  0   0   0   0   0   0   0   0   0   0   0   0   0   0   0   0   0   0\n",
      "    0   0   0   0   0   0   0   0   0   0]\n",
      " [  0   0   0   0   0   0   0   0   0   0   0   0   0   0   0   0   0   0\n",
      "    0   0   0   0   0   0   0   0   0   0]]\n"
     ]
    }
   ],
   "source": [
    "#checking the values of each pixel before Normalizaiton\n",
    "print(x_train[0])"
   ]
  },
  {
   "cell_type": "code",
   "execution_count": 12,
   "id": "5863b682",
   "metadata": {},
   "outputs": [],
   "source": [
    "#As images are in gray level (1 channel ==> 0-255 not colored (RGB))\n",
    "# Normalizing the data | Preprocessing Step\n"
   ]
  },
  {
   "cell_type": "code",
   "execution_count": 13,
   "id": "1c66a43b",
   "metadata": {},
   "outputs": [
    {
     "data": {
      "text/plain": [
       "<matplotlib.image.AxesImage at 0x237a9efd220>"
      ]
     },
     "execution_count": 13,
     "metadata": {},
     "output_type": "execute_result"
    },
    {
     "data": {
      "image/png": "[encoded data removed]",
      "text/plain": [
       "<Figure size 432x288 with 1 Axes>"
      ]
     },
     "metadata": {
      "needs_background": "light"
     },
     "output_type": "display_data"
    }
   ],
   "source": [
    "#in gray image all values varies from 0 to 255 ==> 0 is black and 255 is white\n",
    "#in order to normalize it\n",
    "\n",
    "x_train = tf.keras.utils.normalize (x_train, axis =1)\n",
    "x_test = tf.keras.utils.normalize (x_train, axis =1)\n",
    "plt.imshow(x_train[0], cmap = plt.cm.binary)"
   ]
  },
  {
   "cell_type": "code",
   "execution_count": 14,
   "id": "e1997743",
   "metadata": {},
   "outputs": [
    {
     "name": "stdout",
     "output_type": "stream",
     "text": [
      "[[0.         0.         0.         0.         0.         0.\n",
      "  0.         0.         0.         0.         0.         0.\n",
      "  0.         0.         0.         0.         0.         0.\n",
      "  0.         0.         0.         0.         0.         0.\n",
      "  0.         0.         0.         0.        ]\n",
      " [0.         0.         0.         0.         0.         0.\n",
      "  0.         0.         0.         0.         0.         0.\n",
      "  0.         0.         0.         0.         0.         0.\n",
      "  0.         0.         0.         0.         0.         0.\n",
      "  0.         0.         0.         0.        ]\n",
      " [0.         0.         0.         0.         0.         0.\n",
      "  0.         0.         0.         0.         0.         0.\n",
      "  0.         0.         0.         0.         0.         0.\n",
      "  0.         0.         0.         0.         0.         0.\n",
      "  0.         0.         0.         0.        ]\n",
      " [0.         0.         0.         0.         0.         0.\n",
      "  0.         0.         0.         0.         0.         0.\n",
      "  0.         0.         0.         0.         0.         0.\n",
      "  0.         0.         0.         0.         0.         0.\n",
      "  0.         0.         0.         0.        ]\n",
      " [0.         0.         0.         0.         0.         0.\n",
      "  0.         0.         0.         0.         0.         0.\n",
      "  0.         0.         0.         0.         0.         0.\n",
      "  0.         0.         0.         0.         0.         0.\n",
      "  0.         0.         0.         0.        ]\n",
      " [0.         0.         0.         0.         0.         0.\n",
      "  0.         0.         0.         0.         0.         0.\n",
      "  0.00393124 0.02332955 0.02620568 0.02625207 0.17420356 0.17566281\n",
      "  0.28629534 0.05664824 0.51877786 0.71632322 0.77892406 0.89301644\n",
      "  0.         0.         0.         0.        ]\n",
      " [0.         0.         0.         0.         0.         0.\n",
      "  0.         0.         0.05780486 0.06524513 0.16128198 0.22713296\n",
      "  0.22277047 0.32790981 0.36833534 0.3689874  0.34978968 0.32678448\n",
      "  0.368094   0.3747499  0.79066747 0.67980478 0.61494005 0.45002403\n",
      "  0.         0.         0.         0.        ]\n",
      " [0.         0.         0.         0.         0.         0.\n",
      "  0.         0.12250613 0.45858525 0.45852825 0.43408872 0.37314701\n",
      "  0.33153488 0.32790981 0.36833534 0.3689874  0.34978968 0.32420121\n",
      "  0.15214552 0.17865984 0.25626376 0.1573102  0.12298801 0.\n",
      "  0.         0.         0.         0.        ]\n",
      " [0.         0.         0.         0.         0.         0.\n",
      "  0.         0.04500225 0.4219755  0.45852825 0.43408872 0.37314701\n",
      "  0.33153488 0.32790981 0.28826244 0.26543758 0.34149427 0.31128482\n",
      "  0.         0.         0.         0.         0.         0.\n",
      "  0.         0.         0.         0.        ]\n",
      " [0.         0.         0.         0.         0.         0.\n",
      "  0.         0.         0.1541463  0.28272888 0.18358693 0.37314701\n",
      "  0.33153488 0.26569767 0.01601458 0.         0.05945042 0.19891229\n",
      "  0.         0.         0.         0.         0.         0.\n",
      "  0.         0.         0.         0.        ]\n",
      " [0.         0.         0.         0.         0.         0.\n",
      "  0.         0.         0.         0.0253731  0.00171577 0.22713296\n",
      "  0.33153488 0.11664776 0.         0.         0.         0.\n",
      "  0.         0.         0.         0.         0.         0.\n",
      "  0.         0.         0.         0.        ]\n",
      " [0.         0.         0.         0.         0.         0.\n",
      "  0.         0.         0.         0.         0.         0.20500962\n",
      "  0.33153488 0.24625638 0.00291174 0.         0.         0.\n",
      "  0.         0.         0.         0.         0.         0.\n",
      "  0.         0.         0.         0.        ]\n",
      " [0.         0.         0.         0.         0.         0.\n",
      "  0.         0.         0.         0.         0.         0.01622378\n",
      "  0.24897876 0.32790981 0.10191096 0.         0.         0.\n",
      "  0.         0.         0.         0.         0.         0.\n",
      "  0.         0.         0.         0.        ]\n",
      " [0.         0.         0.         0.         0.         0.\n",
      "  0.         0.         0.         0.         0.         0.\n",
      "  0.04586451 0.31235677 0.32757096 0.23335172 0.14931733 0.00129164\n",
      "  0.         0.         0.         0.         0.         0.\n",
      "  0.         0.         0.         0.        ]\n",
      " [0.         0.         0.         0.         0.         0.\n",
      "  0.         0.         0.         0.         0.         0.\n",
      "  0.         0.10498298 0.34940902 0.3689874  0.34978968 0.15370495\n",
      "  0.04089933 0.         0.         0.         0.         0.\n",
      "  0.         0.         0.         0.        ]\n",
      " [0.         0.         0.         0.         0.         0.\n",
      "  0.         0.         0.         0.         0.         0.\n",
      "  0.         0.         0.06551419 0.27127137 0.34978968 0.32678448\n",
      "  0.245396   0.05882702 0.         0.         0.         0.\n",
      "  0.         0.         0.         0.        ]\n",
      " [0.         0.         0.         0.         0.         0.\n",
      "  0.         0.         0.         0.         0.         0.\n",
      "  0.         0.         0.         0.02333517 0.12857881 0.32549285\n",
      "  0.41390126 0.40743158 0.         0.         0.         0.\n",
      "  0.         0.         0.         0.        ]\n",
      " [0.         0.         0.         0.         0.         0.\n",
      "  0.         0.         0.         0.         0.         0.\n",
      "  0.         0.         0.         0.         0.         0.32161793\n",
      "  0.41390126 0.54251585 0.20001074 0.         0.         0.\n",
      "  0.         0.         0.         0.        ]\n",
      " [0.         0.         0.         0.         0.         0.\n",
      "  0.         0.         0.         0.         0.         0.\n",
      "  0.         0.         0.06697006 0.18959827 0.25300993 0.32678448\n",
      "  0.41390126 0.45100715 0.00625034 0.         0.         0.\n",
      "  0.         0.         0.         0.        ]\n",
      " [0.         0.         0.         0.         0.         0.\n",
      "  0.         0.         0.         0.         0.         0.\n",
      "  0.05110617 0.19182076 0.33339444 0.3689874  0.34978968 0.32678448\n",
      "  0.40899334 0.39653769 0.         0.         0.         0.\n",
      "  0.         0.         0.         0.        ]\n",
      " [0.         0.         0.         0.         0.         0.\n",
      "  0.         0.         0.         0.         0.04117838 0.16813739\n",
      "  0.28960162 0.32790981 0.36833534 0.3689874  0.34978968 0.25961929\n",
      "  0.12760592 0.         0.         0.         0.         0.\n",
      "  0.         0.         0.         0.        ]\n",
      " [0.         0.         0.         0.         0.         0.\n",
      "  0.         0.         0.04431706 0.11961607 0.36545809 0.37314701\n",
      "  0.33153488 0.32790981 0.36833534 0.28877275 0.111988   0.00258328\n",
      "  0.         0.         0.         0.         0.         0.\n",
      "  0.         0.         0.         0.        ]\n",
      " [0.         0.         0.         0.         0.         0.\n",
      "  0.05298497 0.42752138 0.4219755  0.45852825 0.43408872 0.37314701\n",
      "  0.33153488 0.25273681 0.11646967 0.01312603 0.         0.\n",
      "  0.         0.         0.         0.         0.         0.\n",
      "  0.         0.         0.         0.        ]\n",
      " [0.         0.         0.         0.         0.37491383 0.56222061\n",
      "  0.66525569 0.63253163 0.48748768 0.45852825 0.43408872 0.359873\n",
      "  0.17428513 0.01425695 0.         0.         0.         0.\n",
      "  0.         0.         0.         0.         0.         0.\n",
      "  0.         0.         0.         0.        ]\n",
      " [0.         0.         0.         0.         0.92705966 0.82698729\n",
      "  0.74473314 0.63253163 0.4084877  0.24466922 0.22648107 0.02359823\n",
      "  0.         0.         0.         0.         0.         0.\n",
      "  0.         0.         0.         0.         0.         0.\n",
      "  0.         0.         0.         0.        ]\n",
      " [0.         0.         0.         0.         0.         0.\n",
      "  0.         0.         0.         0.         0.         0.\n",
      "  0.         0.         0.         0.         0.         0.\n",
      "  0.         0.         0.         0.         0.         0.\n",
      "  0.         0.         0.         0.        ]\n",
      " [0.         0.         0.         0.         0.         0.\n",
      "  0.         0.         0.         0.         0.         0.\n",
      "  0.         0.         0.         0.         0.         0.\n",
      "  0.         0.         0.         0.         0.         0.\n",
      "  0.         0.         0.         0.        ]\n",
      " [0.         0.         0.         0.         0.         0.\n",
      "  0.         0.         0.         0.         0.         0.\n",
      "  0.         0.         0.         0.         0.         0.\n",
      "  0.         0.         0.         0.         0.         0.\n",
      "  0.         0.         0.         0.        ]]\n"
     ]
    }
   ],
   "source": [
    "#after normalization you can see all values are converted into 0 and 1\n",
    "print(x_train[0])"
   ]
  },
  {
   "cell_type": "code",
   "execution_count": 15,
   "id": "650fc444",
   "metadata": {},
   "outputs": [
    {
     "name": "stdout",
     "output_type": "stream",
     "text": [
      "5\n"
     ]
    }
   ],
   "source": [
    "print(y_train[0]) #just to verify that we have labels in our network"
   ]
  },
  {
   "cell_type": "code",
   "execution_count": null,
   "id": "702c6180",
   "metadata": {},
   "outputs": [],
   "source": [
    "#Resizing image to make it suitable for apply Convultion operation"
   ]
  },
  {
   "cell_type": "code",
   "execution_count": 47,
   "id": "528d2aec",
   "metadata": {},
   "outputs": [
    {
     "name": "stdout",
     "output_type": "stream",
     "text": [
      "Training Samlples Dimension: (60000, 28, 28, 1)\n",
      "Testing Samples Dimension: (10000, 28, 28, 1)\n"
     ]
    }
   ],
   "source": [
    "import numpy as np\n",
    "IMG_SIZE = 28\n",
    "x_trainr = np.array(x_train).reshape(-1, IMG_SIZE, IMG_SIZE, 1) #increasing one dimension for kernel operation\n",
    "x_testr = np.array(x_test).reshape(-1, IMG_SIZE, IMG_SIZE, 1)\n",
    "\n",
    "print(\"Training Samlples Dimension:\", x_trainr.shape)\n",
    "print(\"Testing Samples Dimension:\", x_testr.shape)"
   ]
  },
  {
   "cell_type": "markdown",
   "id": "d3ddeaf5",
   "metadata": {},
   "source": [
    "# Creating a Deep Neural Network\n",
    "#Trainin on 60000 MNIST handwritten dataset"
   ]
  },
  {
   "cell_type": "code",
   "execution_count": 20,
   "id": "9a3671a6",
   "metadata": {},
   "outputs": [],
   "source": [
    "from tensorflow.keras.models import Sequential #sequentially connnected deep learling layers\n",
    "from tensorflow.keras.layers import Dense, Dropout, Activation, Flatten, Conv2D, MaxPooling2D"
   ]
  },
  {
   "cell_type": "code",
   "execution_count": 53,
   "id": "913fd077",
   "metadata": {},
   "outputs": [],
   "source": [
    "#Creating a nerual network now\n",
    "model = Sequential()\n",
    "\n",
    "#First Convulution Layer\n",
    "model.add(Conv2D(64, (3,3), input_shape = x_trainr.shape[1:])) #only for 1st layer to mention input layer size\n",
    "model.add(Activation(\"relu\")) #activation funtion to make it non linear >0 remove, <0 allow for next layer\n",
    "model.add(MaxPooling2D(pool_size = (2,2))) #Maxpooling, single maximum value of 2x2\n",
    "\n",
    "#Second Convulution Layer\n",
    "model.add(Conv2D(64, (3,3), input_shape = x_trainr.shape[1:])) #only for 1st layer to mention input layer size\n",
    "model.add(Activation(\"relu\")) #activation funtion to make it non linear >0 remove, <0 allow for next layer\n",
    "model.add(MaxPooling2D(pool_size = (2,2))) #Maxpooling, single maximum value of 2x2\n",
    "\n",
    "#Third Convulution Layer\n",
    "model.add(Conv2D(64, (3,3), input_shape = x_trainr.shape[1:])) #only for 1st layer to mention input layer size\n",
    "model.add(Activation(\"relu\")) #activation funtion to make it non linear >0 remove, <0 allow for next layer\n",
    "model.add(MaxPooling2D(pool_size = (2,2))) #Maxpooling, single maximum value of 2x2\n",
    "\n",
    "##ONLY PROPOGATING MAXIMUM VALUES TO THE NEXT LAYER\n",
    "\n",
    "#Fully connected layer # 1\n",
    "model.add (Flatten()) ### before using fully connected layer, need to be flatten so that 2D to 1D e.g 20x20 = 400\n",
    "model.add (Dense(64))\n",
    "model.add (Activation(\"relu\"))\n",
    "\n",
    "#Fully connected layer # 2\n",
    "model.add (Dense(32))\n",
    "model.add (Activation(\"relu\"))\n",
    "\n",
    "#Last fully connected layer , output must be equal to the number of classes 10 (0-9)\n",
    "model.add(Dense(10)) ##this last dense layer must be equal to 10\n",
    "model.add(Activation(\"softmax\")) ##function changed to softmax becaue of Class Probabilities"
   ]
  },
  {
   "cell_type": "code",
   "execution_count": 25,
   "id": "98e302db",
   "metadata": {},
   "outputs": [
    {
     "name": "stdout",
     "output_type": "stream",
     "text": [
      "Model: \"sequential_2\"\n",
      "_________________________________________________________________\n",
      " Layer (type)                Output Shape              Param #   \n",
      "=================================================================\n",
      " conv2d (Conv2D)             (None, 26, 26, 64)        640       \n",
      "                                                                 \n",
      " activation (Activation)     (None, 26, 26, 64)        0         \n",
      "                                                                 \n",
      " max_pooling2d (MaxPooling2D  (None, 13, 13, 64)       0         \n",
      " )                                                               \n",
      "                                                                 \n",
      " conv2d_1 (Conv2D)           (None, 11, 11, 64)        36928     \n",
      "                                                                 \n",
      " activation_1 (Activation)   (None, 11, 11, 64)        0         \n",
      "                                                                 \n",
      " max_pooling2d_1 (MaxPooling  (None, 5, 5, 64)         0         \n",
      " 2D)                                                             \n",
      "                                                                 \n",
      " conv2d_2 (Conv2D)           (None, 3, 3, 64)          36928     \n",
      "                                                                 \n",
      " activation_2 (Activation)   (None, 3, 3, 64)          0         \n",
      "                                                                 \n",
      " max_pooling2d_2 (MaxPooling  (None, 1, 1, 64)         0         \n",
      " 2D)                                                             \n",
      "                                                                 \n",
      " flatten (Flatten)           (None, 64)                0         \n",
      "                                                                 \n",
      " dense (Dense)               (None, 64)                4160      \n",
      "                                                                 \n",
      " activation_3 (Activation)   (None, 64)                0         \n",
      "                                                                 \n",
      " dense_1 (Dense)             (None, 32)                2080      \n",
      "                                                                 \n",
      " activation_4 (Activation)   (None, 32)                0         \n",
      "                                                                 \n",
      " dense_2 (Dense)             (None, 10)                330       \n",
      "                                                                 \n",
      " activation_5 (Activation)   (None, 10)                0         \n",
      "                                                                 \n",
      "=================================================================\n",
      "Total params: 81,066\n",
      "Trainable params: 81,066\n",
      "Non-trainable params: 0\n",
      "_________________________________________________________________\n"
     ]
    }
   ],
   "source": [
    "model.summary()"
   ]
  },
  {
   "cell_type": "code",
   "execution_count": 26,
   "id": "41874c8a",
   "metadata": {},
   "outputs": [
    {
     "name": "stdout",
     "output_type": "stream",
     "text": [
      "Total Training Samples 60000\n"
     ]
    }
   ],
   "source": [
    "print(\"Total Training Samples\", len(x_trainr))"
   ]
  },
  {
   "cell_type": "code",
   "execution_count": 58,
   "id": "914e737a",
   "metadata": {},
   "outputs": [],
   "source": [
    "model.compile(loss = \"sparse_categorical_crossentropy\", optimizer = \"adam\", metrics = ['accuracy'])"
   ]
  },
  {
   "cell_type": "code",
   "execution_count": 59,
   "id": "d85ffeb2",
   "metadata": {},
   "outputs": [
    {
     "name": "stdout",
     "output_type": "stream",
     "text": [
      "Epoch 1/5\n",
      "1313/1313 [==============================] - 55s 41ms/step - loss: 0.3337 - accuracy: 0.9088 - val_loss: 0.1177 - val_accuracy: 0.9648\n",
      "Epoch 2/5\n",
      "1313/1313 [==============================] - 53s 41ms/step - loss: 0.1047 - accuracy: 0.9686 - val_loss: 0.0875 - val_accuracy: 0.9726\n",
      "Epoch 3/5\n",
      "1313/1313 [==============================] - 53s 41ms/step - loss: 0.0835 - accuracy: 0.9752 - val_loss: 0.0774 - val_accuracy: 0.9772\n",
      "Epoch 4/5\n",
      "1313/1313 [==============================] - 53s 41ms/step - loss: 0.0669 - accuracy: 0.9796 - val_loss: 0.0727 - val_accuracy: 0.9784\n",
      "Epoch 5/5\n",
      "1313/1313 [==============================] - 53s 41ms/step - loss: 0.0574 - accuracy: 0.9821 - val_loss: 0.0794 - val_accuracy: 0.9766\n"
     ]
    },
    {
     "data": {
      "text/plain": [
       "<keras.callbacks.History at 0x237c05a8fa0>"
      ]
     },
     "execution_count": 59,
     "metadata": {},
     "output_type": "execute_result"
    }
   ],
   "source": [
    "model.fit(x_trainr, y_train, epochs = 5, validation_split = 0.3) ## Training my model"
   ]
  },
  {
   "cell_type": "code",
   "execution_count": 60,
   "id": "e6fc9330",
   "metadata": {},
   "outputs": [
    {
     "name": "stdout",
     "output_type": "stream",
     "text": [
      "313/313 [==============================] - 4s 12ms/step - loss: 0.0826 - accuracy: 0.9755\n",
      "Test loss on 10,000 test samples 0.08260305970907211\n",
      "Validation accuracy on 10,000 test samples 0.9754999876022339\n"
     ]
    }
   ],
   "source": [
    "#Evaluating on Testing Dataset MNIST\n",
    "test_loss , test_acc = model.evaluate(x_testr, y_test)\n",
    "print(\"Test loss on 10,000 test samples\", test_loss)\n",
    "print(\"Validation accuracy on 10,000 test samples\", test_acc)"
   ]
  },
  {
   "cell_type": "code",
   "execution_count": 62,
   "id": "612dd748",
   "metadata": {},
   "outputs": [
    {
     "name": "stdout",
     "output_type": "stream",
     "text": [
      "313/313 [==============================] - 4s 11ms/step\n"
     ]
    }
   ],
   "source": [
    "#Prediction \n",
    "predictions = model.predict([x_testr])"
   ]
  },
  {
   "cell_type": "code",
   "execution_count": 63,
   "id": "1b709af9",
   "metadata": {},
   "outputs": [
    {
     "name": "stdout",
     "output_type": "stream",
     "text": [
      "[[4.3026243e-06 3.9706715e-06 5.9606446e-06 ... 9.9998057e-01\n",
      "  1.5669730e-08 3.0685403e-06]\n",
      " [3.9848516e-07 9.7917550e-08 9.9989808e-01 ... 1.0088673e-04\n",
      "  2.2748348e-09 1.2500875e-09]\n",
      " [2.0860492e-08 9.9999118e-01 3.4679636e-07 ... 3.5112175e-06\n",
      "  4.3093305e-06 8.8573387e-08]\n",
      " ...\n",
      " [5.0056403e-10 1.2404904e-08 2.1073397e-10 ... 1.9646595e-08\n",
      "  1.2323426e-08 4.4204950e-05]\n",
      " [1.0066193e-06 7.1684525e-07 1.4711282e-09 ... 3.7713787e-07\n",
      "  6.2955991e-07 1.9505637e-06]\n",
      " [6.0001264e-07 6.3446714e-07 1.0808450e-06 ... 6.2513474e-09\n",
      "  6.1499736e-06 9.0635027e-08]]\n"
     ]
    }
   ],
   "source": [
    "print(predictions) #these predictions are based on one hot encoding so there are only arrays containing softmax class probabilities"
   ]
  },
  {
   "cell_type": "code",
   "execution_count": 64,
   "id": "041460e9",
   "metadata": {},
   "outputs": [
    {
     "name": "stdout",
     "output_type": "stream",
     "text": [
      "7\n"
     ]
    }
   ],
   "source": [
    "#inorder to understand we need to convert from one hot enconding, we will use numpy for that\n",
    "print(np.argmax(predictions[0])) #argmax will return the maximum value index and find the value of that"
   ]
  },
  {
   "cell_type": "code",
   "execution_count": 65,
   "id": "98a2caa8",
   "metadata": {},
   "outputs": [
    {
     "data": {
      "text/plain": [
       "<matplotlib.image.AxesImage at 0x237b2742df0>"
      ]
     },
     "execution_count": 65,
     "metadata": {},
     "output_type": "execute_result"
    },
    {
     "data": {
      "image/png": "[encoded data removed]",
      "text/plain": [
       "<Figure size 432x288 with 1 Axes>"
      ]
     },
     "metadata": {
      "needs_background": "light"
     },
     "output_type": "display_data"
    }
   ],
   "source": [
    "plt.imshow(x_testr[0])"
   ]
  },
  {
   "cell_type": "code",
   "execution_count": 66,
   "id": "c243b554",
   "metadata": {},
   "outputs": [
    {
     "name": "stdout",
     "output_type": "stream",
     "text": [
      "6\n"
     ]
    }
   ],
   "source": [
    "print(np.argmax(predictions[156]))"
   ]
  },
  {
   "cell_type": "code",
   "execution_count": 67,
   "id": "70a45b4c",
   "metadata": {},
   "outputs": [
    {
     "data": {
      "text/plain": [
       "<matplotlib.image.AxesImage at 0x237b2784b50>"
      ]
     },
     "execution_count": 67,
     "metadata": {},
     "output_type": "execute_result"
    },
    {
     "data": {
      "image/png": "[encoded data removed]",
      "text/plain": [
       "<Figure size 432x288 with 1 Axes>"
      ]
     },
     "metadata": {
      "needs_background": "light"
     },
     "output_type": "display_data"
    }
   ],
   "source": [
    "plt.imshow(x_testr[156])"
   ]
  },
  {
   "cell_type": "code",
   "execution_count": 68,
   "id": "8c8f3994",
   "metadata": {},
   "outputs": [],
   "source": [
    "import cv2"
   ]
  },
  {
   "cell_type": "code",
   "execution_count": 90,
   "id": "7888044e",
   "metadata": {},
   "outputs": [],
   "source": [
    "img = cv2.imread('five.png')"
   ]
  }
 ],
 "metadata": {
  "kernelspec": {
   "display_name": "Python 3 (ipykernel)",
   "language": "python",
   "name": "python3"
  },
  "language_info": {
   "codemirror_mode": {
    "name": "ipython",
    "version": 3
   },
   "file_extension": ".py",
   "mimetype": "text/x-python",
   "name": "python",
   "nbconvert_exporter": "python",
   "pygments_lexer": "ipython3",
   "version": "3.9.12"
  }
 },
 "nbformat": 4,
 "nbformat_minor": 5
}
